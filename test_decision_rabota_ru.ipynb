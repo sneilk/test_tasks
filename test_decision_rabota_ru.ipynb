{
  "nbformat": 4,
  "nbformat_minor": 0,
  "metadata": {
    "colab": {
      "name": "test_decision_rabota_ru.ipynb",
      "provenance": [],
      "collapsed_sections": []
    },
    "kernelspec": {
      "name": "python3",
      "display_name": "Python 3"
    },
    "language_info": {
      "name": "python"
    }
  },
  "cells": [
    {
      "cell_type": "markdown",
      "metadata": {
        "id": "6nqb0NC5Exbb"
      },
      "source": [
        "## Задача 1\n",
        "Подкинули монету N раз. Кол-во случаев, когда выпал орёл, на 10% больше, чем кол-во случаев, когда выпала решка. При каком N мы можем сказать, что монета «нечестная» (орёл и решка выпадают с разной вероятностью)?\n"
      ]
    },
    {
      "cell_type": "markdown",
      "metadata": {
        "id": "W4cqH4izHGuV"
      },
      "source": [
        "#### Решение:\n",
        "\n",
        "Пусть $H_0$ - нулевая гипотеза, что монетка честная. $H_1$ - альтернативная гипотеза, что монетка нечестная. Выпадение орла - событие А, выпадение решки - событие B.\n",
        "\n"
      ]
    },
    {
      "cell_type": "code",
      "metadata": {
        "colab": {
          "base_uri": "https://localhost:8080/"
        },
        "id": "JFAj4zlLm-jE",
        "outputId": "3278d85e-a1c2-4561-b54b-1e7d1eb66aba"
      },
      "source": [
        "# формула для нахождения p-value для биномиального распределения\n",
        "\n",
        "from scipy.special import comb\n",
        "\n",
        "def binomial_test(n, k, p=0.5):\n",
        "    \"\"\"Calculate binomial probability\n",
        "    \"\"\"\n",
        "    return 2 *sum([comb(n, i)*(p**i)*((1-p)**(n-i)) for i in range(k, n)])\n",
        "\n",
        "# Проверяем на scipy библиотеке\n",
        "\n",
        "from scipy.stats import binom_test\n",
        "\n",
        "N = 500\n",
        "print(round(binom_test(N * 0.55, N), 10), round(binomial_test(N, int(N*0.55)), 10))"
      ],
      "execution_count": 22,
      "outputs": [
        {
          "output_type": "stream",
          "text": [
            "0.0283261608 0.0283261608\n"
          ],
          "name": "stdout"
        }
      ]
    },
    {
      "cell_type": "markdown",
      "metadata": {
        "id": "P5Y70Obkws6q"
      },
      "source": [
        "Так как вывод N из формулы оказался не очевидным, то был выполнен перебор"
      ]
    },
    {
      "cell_type": "code",
      "metadata": {
        "colab": {
          "base_uri": "https://localhost:8080/"
        },
        "id": "Keszvk3YEgvs",
        "outputId": "e3ee15d1-879e-44d7-802d-42b01e42ac49"
      },
      "source": [
        "# подберем оптимальный N для p-value менее 0,05 чтобы отвергнуть нулевую гипотезу\n",
        "\n",
        "def calc_count_experiments(p_val=0.05, start=10, end=1000, cnt=1):\n",
        "    if end - start <= 1:\n",
        "        if binomial_test(start, int(start * 0.55)) < 0.05:\n",
        "            return start\n",
        "        return end\n",
        "    n = start + (end - start) // 2\n",
        "    if binomial_test(n, int(n * 0.55)) > 0.05:\n",
        "        return calc_count_experiments(p_val, n, end)\n",
        "    return calc_count_experiments(p_val, start, n)\n",
        "\n",
        "print(\"Чтобы считать, что монетка нечестная, достаточно провести {} испытаний\".format(\n",
        "    calc_count_experiments()))\n"
      ],
      "execution_count": 43,
      "outputs": [
        {
          "output_type": "stream",
          "text": [
            "Чтобы считать, что монетка нечестная, достаточно провести 430 испытаний\n"
          ],
          "name": "stdout"
        }
      ]
    },
    {
      "cell_type": "markdown",
      "metadata": {
        "id": "eFUju9KYE11X"
      },
      "source": [
        "## Задача 2\n",
        "Есть две монеты: «правильная» (с одной стороны орёл, с другой решка) и «неправильная» (орёл на обеих сторонах). Берём одну монету наугад и подкидываем 5 раз. Все 5 раз выпадает орёл. Какова вероятность того, что выбрали «правильную» монету?\n"
      ]
    },
    {
      "cell_type": "markdown",
      "metadata": {
        "id": "ts2Me0DtE6qm"
      },
      "source": [
        "#### Решение:\n",
        "\n",
        "Пусть выбор правильной монетки - событие А, выбор неправильной - событие $\\hat{A}$. Событие 5-ти выпадений орла - событие B. Тогда искомой вероятностью будет P(A|B). \n",
        "</br>\n",
        "\n",
        "$P(B|A) = P(A ⋂ B) / P(A)$\n",
        "</br>\n",
        "\n",
        "$P(A) = 0.5$\n",
        "</br>\n",
        "\n",
        "$P(A ⋂ B) = P(A) P(B) = 0.5 * (0.5)^5 = (0.5)^6$\n",
        "</br>\n",
        "\n",
        "$P(B|A) = (0.5)^6$\n",
        "</br>\n",
        "\n",
        "$P(B|\\hat{A}) = P(\\hat{A} ⋂ B) / P(\\hat{A}) = 0.5 / 0.5 = 1$\n",
        "</br> </br>\n",
        "Тогда, </br>\n",
        "$P(B) = P(B|\\hat{A}) * P(\\hat{A}) + P(B|A) * P(A) = 0.5 + (0.5)^6$\n",
        "</br>\n",
        "В результате, вероятность выбора правильной монетки составляет:</br>\n",
        "\n",
        "$P(A|B) = P(A ⋂ B) / P(B) = 0.5^6 / (0.5 + 0.5^6) \\approx 0.030$"
      ]
    },
    {
      "cell_type": "code",
      "metadata": {
        "id": "buyHfLZzE3YZ"
      },
      "source": [
        ""
      ],
      "execution_count": 3,
      "outputs": []
    },
    {
      "cell_type": "code",
      "metadata": {
        "id": "5OaQaHy2TPfL"
      },
      "source": [
        ""
      ],
      "execution_count": null,
      "outputs": []
    }
  ]
}